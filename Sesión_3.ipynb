{
  "nbformat": 4,
  "nbformat_minor": 0,
  "metadata": {
    "colab": {
      "provenance": [],
      "authorship_tag": "ABX9TyNUP7ioBRtsb8EzIVeH1d31",
      "include_colab_link": true
    },
    "kernelspec": {
      "name": "python3",
      "display_name": "Python 3"
    },
    "language_info": {
      "name": "python"
    }
  },
  "cells": [
    {
      "cell_type": "markdown",
      "metadata": {
        "id": "view-in-github",
        "colab_type": "text"
      },
      "source": [
        "<a href=\"https://colab.research.google.com/github/elvoza/Curso-Introductorio-a-Python/blob/main/Sesi%C3%B3n_3.ipynb\" target=\"_parent\"><img src=\"https://colab.research.google.com/assets/colab-badge.svg\" alt=\"Open In Colab\"/></a>"
      ]
    },
    {
      "cell_type": "markdown",
      "source": [
        "<p><img alt=\"Colaboratory logo\" height=\"120px\" src=\"https://www.udea.edu.co/wps/wcm/connect/udea/df55724e-3ebc-46c6-b608-fb9206b3fede/facultad-economicas.png?MOD=AJPERES&CVID=nc5zPyj\" align=\"Center\" hspace=\"10px\" vspace=\"10px\"></p>\n",
        "\n",
        "\n",
        "#***Python I - Introducción a modelos económicos y financieros con Python***\n",
        "\n",
        "---\n",
        "\n",
        "\n",
        "#**Sesión 3**\n",
        "# Docente: *Cristian Ruiz Parra*\n",
        "\n",
        "---\n",
        "Contenido de la sesión\n",
        "- Introducción a Numpy\n",
        "- Operaciones con arreglos matriciales\n",
        "- principales funciones\n",
        "- Taller practico"
      ],
      "metadata": {
        "id": "r6twIZXBCCkl"
      }
    },
    {
      "cell_type": "markdown",
      "source": [
        "# **Numpy (np)**\n",
        "\n",
        "NumPy (Numerical Python) es la biblioteca fundamental para computación científica en Python. Proporciona un objeto de arreglo de datos multidimensional de alto rendimiento y herramientas para trabajar con estos \"arrays o arreglos\"."
      ],
      "metadata": {
        "id": "8XwyYt2TWkUP"
      }
    },
    {
      "cell_type": "markdown",
      "source": [
        "Primer paso para acceder a Numpy es importarlo"
      ],
      "metadata": {
        "id": "4DqZkgbK472K"
      }
    },
    {
      "cell_type": "code",
      "source": [
        "import numpy as np"
      ],
      "metadata": {
        "id": "800gjvS35Cet"
      },
      "execution_count": 3,
      "outputs": []
    },
    {
      "cell_type": "markdown",
      "source": [
        "Recuerda llamarlo con el alias (np) para simplificar el llamar las funciones propias de Numpy"
      ],
      "metadata": {
        "id": "rHR4SCUc5Kqq"
      }
    },
    {
      "cell_type": "code",
      "source": [
        "import numpy as np\n",
        "\n",
        "# 📦 CREACIÓN DE ARRAYS NUMPY\n",
        "def demostracion_arrays():\n",
        "    # Desde lista Python\n",
        "    lista_python = [1, 2, 3, 4, 5]\n",
        "    array_numpy = np.array(lista_python)\n",
        "\n",
        "    print(\"🎯 COMPARACIÓN LISTA vs ARRAY:\")\n",
        "    print(f\"Lista Python: {lista_python} (tipo: {type(lista_python)})\")\n",
        "    print(f\"Array NumPy:  {array_numpy} (tipo: {type(array_numpy)})\")\n",
        "    print(f\"Tipo datos array: {array_numpy.dtype}\")\n",
        "    print(f\"Forma del array: {array_numpy.shape}\")\n",
        "    print(f\"Dimensiones: {array_numpy.ndim}D\")\n",
        "\n",
        "# Ejecutar demostración\n",
        "demostracion_arrays()"
      ],
      "metadata": {
        "colab": {
          "base_uri": "https://localhost:8080/"
        },
        "id": "wY3P0tHc5EUN",
        "outputId": "a373a6e2-e154-4025-c2fb-ade809f92405"
      },
      "execution_count": null,
      "outputs": [
        {
          "output_type": "stream",
          "name": "stdout",
          "text": [
            "🎯 COMPARACIÓN LISTA vs ARRAY:\n",
            "Lista Python: [1, 2, 3, 4, 5] (tipo: <class 'list'>)\n",
            "Array NumPy:  [1 2 3 4 5] (tipo: <class 'numpy.ndarray'>)\n",
            "Tipo datos array: int64\n",
            "Forma del array: (5,)\n",
            "Dimensiones: 1D\n"
          ]
        }
      ]
    },
    {
      "cell_type": "markdown",
      "source": [
        "# ¿Por que usar Numpy en lugar de las listas de Python?\n",
        "\n",
        "La respuesta a esta pregunta es por eficiencia computacional, los algoritmos de Numpy estan implementados en \"C\" y se encuentran optimizados"
      ],
      "metadata": {
        "id": "jTipNpOUDxxg"
      }
    },
    {
      "cell_type": "code",
      "source": [
        "import time\n",
        "\n",
        "def comparacion_velocidad():\n",
        "    # Datos de ejemplo\n",
        "    datos = list(range(1000000))\n",
        "    array_numpy = np.array(datos)\n",
        "\n",
        "    # Operación con lista Python\n",
        "    inicio_lista = time.time()\n",
        "    resultado_lista = [x * 2 for x in datos]\n",
        "    tiempo_lista = time.time() - inicio_lista\n",
        "\n",
        "    # Operación con NumPy\n",
        "    inicio_numpy = time.time()\n",
        "    resultado_numpy = array_numpy * 2\n",
        "    tiempo_numpy = time.time() - inicio_numpy\n",
        "\n",
        "    print(\"⚡ COMPARACIÓN DE VELOCIDAD:\")\n",
        "    print(f\"Lista Python: {tiempo_lista:.6f} segundos\")\n",
        "    print(f\"NumPy: {tiempo_numpy:.6f} segundos\")\n",
        "    print(f\"NumPy es {tiempo_lista/tiempo_numpy:.1f}x más rápido\")\n",
        "    print(datos[0:10])\n",
        "    print(array_numpy[0:10])\n",
        "    print(resultado_lista[0:10])\n",
        "    print(resultado_numpy[0:10])\n",
        "\n",
        "comparacion_velocidad()"
      ],
      "metadata": {
        "colab": {
          "base_uri": "https://localhost:8080/"
        },
        "id": "MiZ19XMa5kY4",
        "outputId": "bd51f768-7dcd-465b-df94-882f0214bb3f"
      },
      "execution_count": null,
      "outputs": [
        {
          "output_type": "stream",
          "name": "stdout",
          "text": [
            "⚡ COMPARACIÓN DE VELOCIDAD:\n",
            "Lista Python: 0.060808 segundos\n",
            "NumPy: 0.005975 segundos\n",
            "NumPy es 10.2x más rápido\n",
            "[0, 1, 2, 3, 4, 5, 6, 7, 8, 9]\n",
            "[0 1 2 3 4 5 6 7 8 9]\n",
            "[0, 2, 4, 6, 8, 10, 12, 14, 16, 18]\n",
            "[ 0  2  4  6  8 10 12 14 16 18]\n"
          ]
        }
      ]
    },
    {
      "cell_type": "markdown",
      "source": [
        "# **Arreglos de datos**\n",
        "\n",
        "Existen multiples formas de organizar la información en función de la cantidad de dimensiones de los datos, que podria verse también si existe mayor interacción entre diferentes cantidades de variables y estructuras temporales\n",
        "\n",
        "¿Cómo conocemos estos arreglos en función de sus dimensiones?\n",
        "\n",
        "0D:\n",
        "\n",
        "1D:\n",
        "\n",
        "2D:\n",
        "\n",
        "3D:\n",
        "\n",
        "4D:"
      ],
      "metadata": {
        "id": "-NTA48_LzBuh"
      }
    },
    {
      "cell_type": "markdown",
      "metadata": {
        "id": "hCr8iKqsgjTt"
      },
      "source": [
        "## 1D array (vector)"
      ]
    },
    {
      "cell_type": "markdown",
      "metadata": {
        "id": "QrsZZDU_gvQJ"
      },
      "source": [
        "un arreglo unidimensional es una colecion de tipos de datos los cuales se encuntran indexados ( tal y como las listas ). A diferencia de las listas, los arreglos 1D ( y en general los arreglos de cualquier dimension ) solo pueden contener un tipo de dato.\n",
        "\n",
        "Los arreglos de python soportan indexacion y slicing\n",
        "\n",
        "para crear un arreglo 1D de python , podemos usar una lista de numpy\n"
      ]
    },
    {
      "cell_type": "code",
      "metadata": {
        "id": "LftLYaAogs7K",
        "colab": {
          "base_uri": "https://localhost:8080/"
        },
        "outputId": "be207cae-21d3-4463-e16c-de2ec0ef1298"
      },
      "source": [
        "v = np.array([1,2,2,5,2.6,5,6,7,3]) #creacion de un arreglo 1D de numpy\n",
        "print(type(v))\n",
        "v #Veamos el vector y a que clase pertenece (esto es , veamos que tipo de dato es)"
      ],
      "execution_count": 11,
      "outputs": [
        {
          "output_type": "stream",
          "name": "stdout",
          "text": [
            "<class 'numpy.ndarray'>\n"
          ]
        },
        {
          "output_type": "execute_result",
          "data": {
            "text/plain": [
              "array([1. , 2. , 2. , 5. , 2.6, 5. , 6. , 7. , 3. ])"
            ]
          },
          "metadata": {},
          "execution_count": 11
        }
      ]
    },
    {
      "cell_type": "code",
      "metadata": {
        "id": "BJEMB3gfjoO7",
        "colab": {
          "base_uri": "https://localhost:8080/"
        },
        "outputId": "022590f4-c416-4708-9a28-0cab9ef42f19"
      },
      "source": [
        "#indexacion\n",
        "v[0], v[1] , v[-1] , v[4]"
      ],
      "execution_count": 9,
      "outputs": [
        {
          "output_type": "execute_result",
          "data": {
            "text/plain": [
              "(np.float64(1.0), np.float64(2.0), np.float64(3.0), np.float64(2.6))"
            ]
          },
          "metadata": {},
          "execution_count": 9
        }
      ]
    },
    {
      "cell_type": "markdown",
      "source": [
        "**Formato para llamar subarreglos (Slicing)**\n",
        "\n",
        "Para llamar una parte de un Arreglo en 1D tenemos el fotmato siguiente:\n",
        "\n",
        "Nombre del arreglo[Elmento inicial:Elemento final:paso]\n",
        "\n"
      ],
      "metadata": {
        "id": "UNcFtcZp95xA"
      }
    },
    {
      "cell_type": "code",
      "metadata": {
        "id": "bft97xylgmsq",
        "colab": {
          "base_uri": "https://localhost:8080/"
        },
        "outputId": "9cd17c35-2259-48cc-d779-fe6bdc724519"
      },
      "source": [
        "#slicing [indice_inicial:indice_fianl:paso]\n",
        "v[0:7:2], v[::-1] , v[1::3] , v[5::]"
      ],
      "execution_count": 14,
      "outputs": [
        {
          "output_type": "execute_result",
          "data": {
            "text/plain": [
              "(array([1. , 2. , 2.6, 6. ]),\n",
              " array([3. , 7. , 6. , 5. , 2.6, 5. , 2. , 2. , 1. ]),\n",
              " array([2. , 2.6, 7. ]),\n",
              " array([5., 6., 7., 3.]))"
            ]
          },
          "metadata": {},
          "execution_count": 14
        }
      ]
    },
    {
      "cell_type": "markdown",
      "source": [
        "**Lista de elementos**\n",
        "\n",
        "Nombre del arreglo[[Elemento1, elmento2, elemento3,... elementon]]"
      ],
      "metadata": {
        "id": "CEdL_HNp-wSY"
      }
    },
    {
      "cell_type": "code",
      "metadata": {
        "id": "0aFHkVlCbWOt",
        "colab": {
          "base_uri": "https://localhost:8080/"
        },
        "outputId": "eb9801f0-b3b8-4042-e4ff-2e2164717520"
      },
      "source": [
        "# otras formas de hacer indexing (usar una lista para hacer indexing)\n",
        "v[[1,3,5,6]]"
      ],
      "execution_count": null,
      "outputs": [
        {
          "output_type": "execute_result",
          "data": {
            "text/plain": [
              "array([2., 5., 5., 6.])"
            ]
          },
          "metadata": {},
          "execution_count": 223
        }
      ]
    },
    {
      "cell_type": "markdown",
      "source": [
        "**Formato Buleano**\n",
        "Aquí describiremos que posiciones queremos que conformen nuestro nuevo arreglo\n",
        "\n",
        "Nombre del arreglo[[(True or false, True or false, True or false, True or false... True or false]]"
      ],
      "metadata": {
        "id": "jOY1jEN2-318"
      }
    },
    {
      "cell_type": "code",
      "metadata": {
        "id": "cgAdkYMcpdIj",
        "colab": {
          "base_uri": "https://localhost:8080/"
        },
        "outputId": "bad5ab20-f079-4da4-93a1-e5b762da3cf1"
      },
      "source": [
        "#Indexacion usando tipos buleanos\n",
        "v[[True , True , False, False, True, True, False, False, False]]"
      ],
      "execution_count": 15,
      "outputs": [
        {
          "output_type": "execute_result",
          "data": {
            "text/plain": [
              "array([1. , 2. , 2.6, 5. ])"
            ]
          },
          "metadata": {},
          "execution_count": 15
        }
      ]
    },
    {
      "cell_type": "code",
      "metadata": {
        "id": "PIiW74rAYQq6",
        "colab": {
          "base_uri": "https://localhost:8080/"
        },
        "outputId": "4d9c4134-ca42-4b0f-94e2-acabe3889ffe"
      },
      "source": [
        "#Indexacion usando tipos buleanos\n",
        "v > 4"
      ],
      "execution_count": 16,
      "outputs": [
        {
          "output_type": "execute_result",
          "data": {
            "text/plain": [
              "array([False, False, False,  True, False,  True,  True,  True, False])"
            ]
          },
          "metadata": {},
          "execution_count": 16
        }
      ]
    },
    {
      "cell_type": "code",
      "metadata": {
        "id": "xGdJaVCcYh2x",
        "colab": {
          "base_uri": "https://localhost:8080/"
        },
        "outputId": "cbce88dd-b489-42f5-a79f-3d44407714d6"
      },
      "source": [
        "#Indexacion usando tipos buleanos\n",
        "v[v > 4]"
      ],
      "execution_count": 17,
      "outputs": [
        {
          "output_type": "execute_result",
          "data": {
            "text/plain": [
              "array([5., 5., 6., 7.])"
            ]
          },
          "metadata": {},
          "execution_count": 17
        }
      ]
    },
    {
      "cell_type": "code",
      "metadata": {
        "id": "FGMR6iiDikSi",
        "colab": {
          "base_uri": "https://localhost:8080/"
        },
        "outputId": "8321dc29-3c94-44d1-88b4-9101ab5788f7"
      },
      "source": [
        "print(v.shape) #atributo shape del arreglo de numpy (Formato de la matrix)\n",
        "print(v.dtype) #atributo dtype (Tipos de datos que conforman el arreglo)\n",
        "print(v.size) #atributo size (cantidad de elementos)\n",
        "print(v.ndim) #atributo ndim (Dimensiones del arreglo)"
      ],
      "execution_count": 18,
      "outputs": [
        {
          "output_type": "stream",
          "name": "stdout",
          "text": [
            "(9,)\n",
            "float64\n",
            "9\n",
            "1\n"
          ]
        }
      ]
    },
    {
      "cell_type": "markdown",
      "metadata": {
        "id": "D1vN2jWzYYzi"
      },
      "source": [
        "## 2D arrays\n",
        "\n",
        "```\n",
        "# Tiene formato de código\n",
        "```\n",
        "\n"
      ]
    },
    {
      "cell_type": "markdown",
      "metadata": {
        "id": "84gVBWFIYcKO"
      },
      "source": [
        "Como se menciono antes, es posible crear arreglos de mayor dimension. en este caso , veamos los arreglos 2D (tambien conocidos como matrices)"
      ]
    },
    {
      "cell_type": "code",
      "metadata": {
        "id": "z2kwDfYGYwpu"
      },
      "source": [
        "#creacion de un arreglo 2D (matriz) usando una lista de python\n",
        "entradas = [\n",
        "            [2,6,4,8,9],\n",
        "            [2,6,7,9,2.3],\n",
        "            [5,6,3.,4,2.,],\n",
        "            [9,0,5,3,6,],\n",
        "            [3.6,2.7,9.8,2,4]\n",
        "            ]"
      ],
      "execution_count": null,
      "outputs": []
    },
    {
      "cell_type": "code",
      "metadata": {
        "id": "VCAUUWh7Ybi6",
        "colab": {
          "base_uri": "https://localhost:8080/"
        },
        "outputId": "f1de81bd-e746-463b-c33e-e675574f2940"
      },
      "source": [
        "#creacion de un arreglo 2D (matriz) usando una lista de python\n",
        "M = np.array(entradas)\n",
        "M"
      ],
      "execution_count": null,
      "outputs": [
        {
          "output_type": "execute_result",
          "data": {
            "text/plain": [
              "array([[2. , 6. , 4. , 8. , 9. ],\n",
              "       [2. , 6. , 7. , 9. , 2.3],\n",
              "       [5. , 6. , 3. , 4. , 2. ],\n",
              "       [9. , 0. , 5. , 3. , 6. ],\n",
              "       [3.6, 2.7, 9.8, 2. , 4. ]])"
            ]
          },
          "metadata": {},
          "execution_count": 230
        }
      ]
    },
    {
      "cell_type": "code",
      "metadata": {
        "id": "ddZXJKNGY9cd",
        "colab": {
          "base_uri": "https://localhost:8080/"
        },
        "outputId": "2cfc5edf-c763-40ec-fc0e-6aed08784082"
      },
      "source": [
        "#Indexacion en arreglos matriciales\n",
        "M[0,0] , M[4,-1] , M[4,4]"
      ],
      "execution_count": null,
      "outputs": [
        {
          "output_type": "execute_result",
          "data": {
            "text/plain": [
              "(np.float64(2.0), np.float64(4.0), np.float64(4.0))"
            ]
          },
          "metadata": {},
          "execution_count": 231
        }
      ]
    },
    {
      "cell_type": "code",
      "metadata": {
        "id": "KvCBTHKIY9Z9",
        "colab": {
          "base_uri": "https://localhost:8080/"
        },
        "outputId": "f788afb9-1c6d-49cd-c767-599eb48967c1"
      },
      "source": [
        "#Slicing en arreglos matriciales\n",
        "# Filas: desde 0 hasta 5, paso 2 | Columna:  0 hasta la 4\n",
        "M[0:6:2, 0:3]"
      ],
      "execution_count": null,
      "outputs": [
        {
          "output_type": "execute_result",
          "data": {
            "text/plain": [
              "array([[2. , 6. , 4. ],\n",
              "       [5. , 6. , 3. ],\n",
              "       [3.6, 2.7, 9.8]])"
            ]
          },
          "metadata": {},
          "execution_count": 240
        }
      ]
    },
    {
      "cell_type": "code",
      "metadata": {
        "id": "siCh7TK1aO6d",
        "colab": {
          "base_uri": "https://localhost:8080/",
          "height": 67
        },
        "outputId": "357446ac-057d-4011-8a3e-cb7b9fa369f0"
      },
      "source": [
        "#Slicing en arreglos matriciales\n",
        "# # Filas: 0→6 paso 2 | Columnas: 0→6 paso 2\n",
        "M[0:6:2, 0:6:2]"
      ],
      "execution_count": null,
      "outputs": [
        {
          "output_type": "execute_result",
          "data": {
            "text/plain": [
              "array([[2. , 4. , 9. ],\n",
              "       [5. , 3. , 2. ],\n",
              "       [3.6, 9.8, 4. ]])"
            ]
          },
          "metadata": {
            "tags": []
          },
          "execution_count": 116
        }
      ]
    },
    {
      "cell_type": "code",
      "metadata": {
        "id": "34kdy8c3aO3S",
        "colab": {
          "base_uri": "https://localhost:8080/",
          "height": 67
        },
        "outputId": "1279b744-39b7-401b-9852-99069ecfd22b"
      },
      "source": [
        "#Slicing en arreglos matriciales\n",
        "# Filas: 0→6 paso 2 | Columnas: TODAS\n",
        "M[0:6:2, :]"
      ],
      "execution_count": null,
      "outputs": [
        {
          "output_type": "execute_result",
          "data": {
            "text/plain": [
              "array([[2. , 6. , 4. , 8. , 9. ],\n",
              "       [5. , 6. , 3. , 4. , 2. ],\n",
              "       [3.6, 2.7, 9.8, 2. , 4. ]])"
            ]
          },
          "metadata": {
            "tags": []
          },
          "execution_count": 117
        }
      ]
    },
    {
      "cell_type": "code",
      "metadata": {
        "id": "Z5s0qKZIaS4D",
        "colab": {
          "base_uri": "https://localhost:8080/"
        },
        "outputId": "6612f412-aba1-46bb-c07d-f67740d32954"
      },
      "source": [
        "#Slicing en arreglos matriciales\n",
        "# Filas: TODAS | Columnas: Ultima\n",
        "M[0:, -1]\n"
      ],
      "execution_count": null,
      "outputs": [
        {
          "output_type": "execute_result",
          "data": {
            "text/plain": [
              "array([9. , 2.3, 2. , 6. , 4. ])"
            ]
          },
          "metadata": {},
          "execution_count": 236
        }
      ]
    },
    {
      "cell_type": "code",
      "metadata": {
        "id": "2C7hjlncaSvx",
        "colab": {
          "base_uri": "https://localhost:8080/",
          "height": 101
        },
        "outputId": "f92c08b7-e327-4442-fc25-243346260dbc"
      },
      "source": [
        "#Slicing en arreglos matriciales\n",
        "#Filas Todas | columas todas con paso 3\n",
        "M[:, 0:-1:3]"
      ],
      "execution_count": null,
      "outputs": [
        {
          "output_type": "execute_result",
          "data": {
            "text/plain": [
              "array([[2. , 8. ],\n",
              "       [2. , 9. ],\n",
              "       [5. , 4. ],\n",
              "       [9. , 3. ],\n",
              "       [3.6, 2. ]])"
            ]
          },
          "metadata": {
            "tags": []
          },
          "execution_count": 121
        }
      ]
    },
    {
      "cell_type": "code",
      "metadata": {
        "id": "L9tdn3j0dZLc",
        "colab": {
          "base_uri": "https://localhost:8080/",
          "height": 101
        },
        "outputId": "85610f4e-8b66-4f7b-fd8a-d77b5c5303ac"
      },
      "source": [
        "#Otras formas de indexing usando listas de python\n",
        "M[:,[0,2,4]]"
      ],
      "execution_count": null,
      "outputs": [
        {
          "output_type": "execute_result",
          "data": {
            "text/plain": [
              "array([[2. , 4. , 9. ],\n",
              "       [2. , 7. , 2.3],\n",
              "       [5. , 3. , 2. ],\n",
              "       [9. , 5. , 6. ],\n",
              "       [3.6, 9.8, 4. ]])"
            ]
          },
          "metadata": {
            "tags": []
          },
          "execution_count": 124
        }
      ]
    },
    {
      "cell_type": "code",
      "metadata": {
        "id": "v9JGAsKcY9Uy",
        "colab": {
          "base_uri": "https://localhost:8080/"
        },
        "outputId": "cbbfb727-9f98-48e3-9c10-62f3f8591e85"
      },
      "source": [
        "#Otras formas de indexing (termino a termino)\n",
        "index = [[2,2],[0,0]], [[2,2],[0,0]]\n",
        "M[index]"
      ],
      "execution_count": null,
      "outputs": [
        {
          "output_type": "execute_result",
          "data": {
            "text/plain": [
              "array([[3., 3.],\n",
              "       [2., 2.]])"
            ]
          },
          "metadata": {},
          "execution_count": 241
        }
      ]
    },
    {
      "cell_type": "code",
      "metadata": {
        "id": "aWrtMUg5bghC",
        "colab": {
          "base_uri": "https://localhost:8080/",
          "height": 101
        },
        "outputId": "4c4176d8-c991-4360-9b63-421c4c4ddd22"
      },
      "source": [
        "#Indexacion usando tipos buleanos\n",
        "M > 5"
      ],
      "execution_count": null,
      "outputs": [
        {
          "output_type": "execute_result",
          "data": {
            "text/plain": [
              "array([[False,  True, False,  True,  True],\n",
              "       [False,  True,  True,  True, False],\n",
              "       [False,  True, False, False, False],\n",
              "       [ True, False, False, False,  True],\n",
              "       [False, False,  True, False, False]])"
            ]
          },
          "metadata": {
            "tags": []
          },
          "execution_count": 140
        }
      ]
    },
    {
      "cell_type": "code",
      "metadata": {
        "id": "QNy0cSFVplri",
        "colab": {
          "base_uri": "https://localhost:8080/",
          "height": 34
        },
        "outputId": "696d2d88-f4ec-425c-c2df-c388b2452348"
      },
      "source": [
        "#Indexacion usando tipos buleanos\n",
        "M[M > 5]"
      ],
      "execution_count": null,
      "outputs": [
        {
          "output_type": "execute_result",
          "data": {
            "text/plain": [
              "array([6. , 8. , 9. , 6. , 7. , 9. , 6. , 9. , 6. , 9.8])"
            ]
          },
          "metadata": {
            "tags": []
          },
          "execution_count": 141
        }
      ]
    },
    {
      "cell_type": "code",
      "metadata": {
        "id": "hiUsbpbshMuu",
        "colab": {
          "base_uri": "https://localhost:8080/",
          "height": 84
        },
        "outputId": "123a551c-b768-4175-a546-3fc1f640dbe0"
      },
      "source": [
        "print(M.shape) #atributo shape del arreglo de numpy\n",
        "print(M.dtype) #atributo dtype\n",
        "print(M.size) #atributo size\n",
        "print(M.ndim) #atributo ndim"
      ],
      "execution_count": null,
      "outputs": [
        {
          "output_type": "stream",
          "text": [
            "(5, 5)\n",
            "float64\n",
            "25\n",
            "2\n"
          ],
          "name": "stdout"
        }
      ]
    },
    {
      "cell_type": "markdown",
      "metadata": {
        "id": "AUP_MeFyW1i0"
      },
      "source": [
        "Numpy tiene muchas funciones para crear arreglos"
      ]
    },
    {
      "cell_type": "code",
      "metadata": {
        "id": "wqmorXvjdwXN",
        "colab": {
          "base_uri": "https://localhost:8080/",
          "height": 34
        },
        "outputId": "7bfad26a-3870-4616-9836-e36b79037f81"
      },
      "source": [
        "# Creación de un array de zeros\n",
        "np.zeros(5)"
      ],
      "execution_count": null,
      "outputs": [
        {
          "output_type": "execute_result",
          "data": {
            "text/plain": [
              "array([0., 0., 0., 0., 0.])"
            ]
          },
          "metadata": {
            "tags": []
          },
          "execution_count": 149
        }
      ]
    },
    {
      "cell_type": "code",
      "metadata": {
        "id": "Z1V-pAlmcrLB",
        "colab": {
          "base_uri": "https://localhost:8080/",
          "height": 50
        },
        "outputId": "a4ac896c-b2ee-45ea-dba4-4ff09321a08b"
      },
      "source": [
        "np.zeros((2,2))"
      ],
      "execution_count": null,
      "outputs": [
        {
          "output_type": "execute_result",
          "data": {
            "text/plain": [
              "array([[0., 0.],\n",
              "       [0., 0.]])"
            ]
          },
          "metadata": {
            "tags": []
          },
          "execution_count": 150
        }
      ]
    },
    {
      "cell_type": "code",
      "metadata": {
        "id": "Hsh93K7gdwU9",
        "colab": {
          "base_uri": "https://localhost:8080/",
          "height": 34
        },
        "outputId": "371e851c-04fd-42e7-c707-7eed96da15b0"
      },
      "source": [
        "# Creación de un array de unos\n",
        "np.ones(5)"
      ],
      "execution_count": null,
      "outputs": [
        {
          "output_type": "execute_result",
          "data": {
            "text/plain": [
              "array([1., 1., 1., 1., 1.])"
            ]
          },
          "metadata": {
            "tags": []
          },
          "execution_count": 151
        }
      ]
    },
    {
      "cell_type": "code",
      "metadata": {
        "id": "fsyswO3mc1s-",
        "colab": {
          "base_uri": "https://localhost:8080/",
          "height": 67
        },
        "outputId": "bf8c6157-310b-4bec-8334-eb51bf21ff4c"
      },
      "source": [
        "np.ones((3,3))"
      ],
      "execution_count": null,
      "outputs": [
        {
          "output_type": "execute_result",
          "data": {
            "text/plain": [
              "array([[1., 1., 1.],\n",
              "       [1., 1., 1.],\n",
              "       [1., 1., 1.]])"
            ]
          },
          "metadata": {
            "tags": []
          },
          "execution_count": 152
        }
      ]
    },
    {
      "cell_type": "code",
      "metadata": {
        "id": "_gCvt4M0dwSs",
        "colab": {
          "base_uri": "https://localhost:8080/",
          "height": 34
        },
        "outputId": "7fbe1f9e-76a6-40ae-fb96-5126298ed833"
      },
      "source": [
        "# Creación de un array de una costante\n",
        "np.full(5 , 3)"
      ],
      "execution_count": null,
      "outputs": [
        {
          "output_type": "execute_result",
          "data": {
            "text/plain": [
              "array([3, 3, 3, 3, 3])"
            ]
          },
          "metadata": {
            "tags": []
          },
          "execution_count": 158
        }
      ]
    },
    {
      "cell_type": "code",
      "metadata": {
        "id": "opg5_sA0dEJh",
        "colab": {
          "base_uri": "https://localhost:8080/"
        },
        "outputId": "d9fb3adb-eab3-454e-b42d-a8f491aa3f4a"
      },
      "source": [
        "np.full((3,3,3), 10)"
      ],
      "execution_count": null,
      "outputs": [
        {
          "output_type": "execute_result",
          "data": {
            "text/plain": [
              "array([[[10, 10, 10],\n",
              "        [10, 10, 10],\n",
              "        [10, 10, 10]],\n",
              "\n",
              "       [[10, 10, 10],\n",
              "        [10, 10, 10],\n",
              "        [10, 10, 10]],\n",
              "\n",
              "       [[10, 10, 10],\n",
              "        [10, 10, 10],\n",
              "        [10, 10, 10]]])"
            ]
          },
          "metadata": {},
          "execution_count": 242
        }
      ]
    },
    {
      "cell_type": "code",
      "metadata": {
        "id": "xyE_XBendwQG",
        "colab": {
          "base_uri": "https://localhost:8080/",
          "height": 50
        },
        "outputId": "7e5d1c99-2baf-4aca-8431-ed738b72d08d"
      },
      "source": [
        "# Creación de la matriz indentidad de 2x2.\n",
        "np.identity(2)"
      ],
      "execution_count": null,
      "outputs": [
        {
          "output_type": "execute_result",
          "data": {
            "text/plain": [
              "array([[1., 0.],\n",
              "       [0., 1.]])"
            ]
          },
          "metadata": {
            "tags": []
          },
          "execution_count": 163
        }
      ]
    },
    {
      "cell_type": "code",
      "metadata": {
        "id": "Ca0hbbq2dwNV",
        "colab": {
          "base_uri": "https://localhost:8080/"
        },
        "outputId": "873d0edf-a233-4846-ec4b-1fac7face444"
      },
      "source": [
        "# Crea un vector desde el número inicial 4 hasta el final 10 de 0,2 en 0,2\n",
        "np.arange(4,10,0.2)"
      ],
      "execution_count": null,
      "outputs": [
        {
          "output_type": "execute_result",
          "data": {
            "text/plain": [
              "array([ 4. ,  4.2,  4.4,  4.6,  4.8,  5. ,  5.2,  5.4,  5.6,  5.8,  6. ,\n",
              "        6.2,  6.4,  6.6,  6.8,  7. ,  7.2,  7.4,  7.6,  7.8,  8. ,  8.2,\n",
              "        8.4,  8.6,  8.8,  9. ,  9.2,  9.4,  9.6,  9.8, 10. ])"
            ]
          },
          "metadata": {},
          "execution_count": 251
        }
      ]
    },
    {
      "cell_type": "code",
      "metadata": {
        "id": "_3NsAn63dwK-",
        "colab": {
          "base_uri": "https://localhost:8080/"
        },
        "outputId": "f91f572b-3316-4deb-e4ad-c17fce6e0c4e"
      },
      "source": [
        "# Crea un vector de diez valores espaciados la función encuentra el paso\n",
        "np.linspace(-2,2,10)"
      ],
      "execution_count": null,
      "outputs": [
        {
          "output_type": "execute_result",
          "data": {
            "text/plain": [
              "array([-2.        , -1.55555556, -1.11111111, -0.66666667, -0.22222222,\n",
              "        0.22222222,  0.66666667,  1.11111111,  1.55555556,  2.        ])"
            ]
          },
          "metadata": {},
          "execution_count": 253
        }
      ]
    },
    {
      "cell_type": "code",
      "metadata": {
        "id": "q0aNVjncdwIU",
        "colab": {
          "base_uri": "https://localhost:8080/"
        },
        "outputId": "5efa20d9-16d7-4207-df94-1506b96656b9"
      },
      "source": [
        "# Creación de un arreglo de valores aleatorios dados por una distribucion\n",
        "#uniforme en el rango (0,1)\n",
        "np.random.random(10)"
      ],
      "execution_count": null,
      "outputs": [
        {
          "output_type": "execute_result",
          "data": {
            "text/plain": [
              "array([0.73623658, 0.51370272, 0.07941719, 0.12944331, 0.03192888,\n",
              "       0.34506528, 0.08902141, 0.08268152, 0.43762398, 0.77135962])"
            ]
          },
          "metadata": {},
          "execution_count": 256
        }
      ]
    },
    {
      "cell_type": "code",
      "metadata": {
        "id": "4U1m6OAMd3fX",
        "colab": {
          "base_uri": "https://localhost:8080/"
        },
        "outputId": "768c9b47-c530-475b-bbb3-3430fcf7278e"
      },
      "source": [
        "np.random.random((2,2))"
      ],
      "execution_count": null,
      "outputs": [
        {
          "output_type": "execute_result",
          "data": {
            "text/plain": [
              "array([[0.26079813, 0.82823923],\n",
              "       [0.06448793, 0.06129111]])"
            ]
          },
          "metadata": {},
          "execution_count": 257
        }
      ]
    },
    {
      "cell_type": "code",
      "metadata": {
        "id": "1fZamq19XAw7",
        "colab": {
          "base_uri": "https://localhost:8080/"
        },
        "outputId": "7c9d09ea-3165-42e9-e4a4-32677827f43c"
      },
      "source": [
        "# Creación arreglo de valores aleatorios dados por una distribucion normal\n",
        "#loc: Media de la distribución (μ) - default: 0.0\n",
        "#scale: Desviación estándar (σ) - default: 1.0\n",
        "#size: Forma del array de salida (int o tupla) - default: None\n",
        "\n",
        "np.random.normal(loc=5, scale=1, size=10)"
      ],
      "execution_count": 44,
      "outputs": [
        {
          "output_type": "execute_result",
          "data": {
            "text/plain": [
              "array([5.54730031, 5.72995806, 4.24132714, 4.44741354, 3.61776274,\n",
              "       4.38833216, 4.43500895, 5.37255682, 5.27866381, 4.48210496])"
            ]
          },
          "metadata": {},
          "execution_count": 44
        }
      ]
    },
    {
      "cell_type": "code",
      "metadata": {
        "id": "3bp3bqBQeMNx",
        "colab": {
          "base_uri": "https://localhost:8080/",
          "height": 67
        },
        "outputId": "12533e0b-9364-4861-dd38-f813074eba33"
      },
      "source": [
        "np.random.normal(loc=0, scale=1, size=(3,3))"
      ],
      "execution_count": null,
      "outputs": [
        {
          "output_type": "execute_result",
          "data": {
            "text/plain": [
              "array([[-1.31358478,  1.00590217, -1.14564481],\n",
              "       [ 0.24920212,  0.23690745, -0.51320557],\n",
              "       [-0.64837712, -1.16955595,  1.02789509]])"
            ]
          },
          "metadata": {
            "tags": []
          },
          "execution_count": 172
        }
      ]
    },
    {
      "cell_type": "code",
      "metadata": {
        "id": "wQgZ2VJneB6I",
        "colab": {
          "base_uri": "https://localhost:8080/"
        },
        "outputId": "1a252baf-7d1f-4a2a-8892-e010dee9eb6d"
      },
      "source": [
        "# Creación de una arreglo de números enteros aleatorios dados por una distribucion uniforme en el rango dado\n",
        "np.random.randint(low = 2, high=10, size=10)"
      ],
      "execution_count": null,
      "outputs": [
        {
          "output_type": "execute_result",
          "data": {
            "text/plain": [
              "array([2, 5, 8, 5, 8, 2, 3, 4, 4, 9])"
            ]
          },
          "metadata": {},
          "execution_count": 263
        }
      ]
    },
    {
      "cell_type": "code",
      "metadata": {
        "id": "6oh9CMoWel43",
        "colab": {
          "base_uri": "https://localhost:8080/"
        },
        "outputId": "c21591ed-127a-40fd-954e-a3b2ebea83bf"
      },
      "source": [
        "np.random.randint(low = 2, high=10, size=(4,4))"
      ],
      "execution_count": null,
      "outputs": [
        {
          "output_type": "execute_result",
          "data": {
            "text/plain": [
              "array([[5, 7, 4, 8],\n",
              "       [8, 6, 9, 7],\n",
              "       [3, 4, 5, 5],\n",
              "       [6, 5, 2, 8]])"
            ]
          },
          "metadata": {},
          "execution_count": 264
        }
      ]
    },
    {
      "cell_type": "code",
      "metadata": {
        "id": "20vUymMdeYp9"
      },
      "source": [],
      "execution_count": null,
      "outputs": []
    },
    {
      "cell_type": "markdown",
      "metadata": {
        "id": "lVQa7ZLXhYaS"
      },
      "source": [
        "## Ejercicios"
      ]
    },
    {
      "cell_type": "markdown",
      "metadata": {
        "id": "DhgkH2ZAhaCF"
      },
      "source": [
        "\\1) Crea una matriz de 3 x 3 con todos los valores true"
      ]
    },
    {
      "cell_type": "markdown",
      "metadata": {
        "id": "Q-4WOsDhhg7F"
      },
      "source": [
        "2) Reemplace todos los numeros impares por -1\n",
        "```\n",
        "Input\n",
        "\n",
        "arr = np.array([0, 1, 2, 3, 4, 5, 6, 7, 8, 9])\n",
        "```\n"
      ]
    },
    {
      "cell_type": "markdown",
      "metadata": {
        "id": "5fyKapSIhhhs"
      },
      "source": [
        "3) Convertir un array de 1D en uno de 2D con dos filas con la misma cantidad de elementos\n",
        "\n",
        "\n",
        "\n",
        "```\n",
        "Input:\n",
        "\n",
        "arr = np.arange(16)\n",
        "```\n",
        "\n",
        "ayuda: Investigar el metodo `reshape ` que tienen los arreglos de numpy\n"
      ]
    },
    {
      "cell_type": "code",
      "source": [
        "help(np.reshape)"
      ],
      "metadata": {
        "id": "nq0J4_F_G6QN"
      },
      "execution_count": null,
      "outputs": []
    },
    {
      "cell_type": "markdown",
      "metadata": {
        "id": "RR8-8BLcRjHC"
      },
      "source": [
        "4) Convierte los vectores fila a y b en un vector columna (Apila verticalmente los vectores a y b)\n",
        "\n",
        "```\n",
        "Input\n",
        "\n",
        "a = np.arange(10).reshape(2,-1)\n",
        "b = np.repeat(1, 10).reshape(2,-1)\n",
        "```\n",
        "\n",
        "ayuda: investigar las funciones np.vstack , np.hstack"
      ]
    },
    {
      "cell_type": "code",
      "source": [
        "\n",
        "a = np.arange(10).reshape(2,-1)\n",
        "b = np.repeat(1, 10).reshape(2,-1)\n",
        "print(a)\n",
        "print(b)"
      ],
      "metadata": {
        "colab": {
          "base_uri": "https://localhost:8080/"
        },
        "id": "5ip-s7wMHh0N",
        "outputId": "7f82a626-7cf0-4a13-8f7b-94bdfbe3e8d4"
      },
      "execution_count": 130,
      "outputs": [
        {
          "output_type": "stream",
          "name": "stdout",
          "text": [
            "[[0 1 2 3 4]\n",
            " [5 6 7 8 9]]\n",
            "[[1 1 1 1 1]\n",
            " [1 1 1 1 1]]\n"
          ]
        }
      ]
    },
    {
      "cell_type": "code",
      "source": [
        "a.reshape(1,-1,)"
      ],
      "metadata": {
        "id": "7X5d9F6FdW69"
      },
      "execution_count": null,
      "outputs": []
    },
    {
      "cell_type": "code",
      "source": [
        "ab=np.hstack((a,b))\n",
        "ab"
      ],
      "metadata": {
        "colab": {
          "base_uri": "https://localhost:8080/"
        },
        "id": "u4_R39Y0b3YB",
        "outputId": "59606913-da30-48f2-ec83-47ccf0011d11"
      },
      "execution_count": 132,
      "outputs": [
        {
          "output_type": "execute_result",
          "data": {
            "text/plain": [
              "array([[0, 1, 2, 3, 4, 1, 1, 1, 1, 1],\n",
              "       [5, 6, 7, 8, 9, 1, 1, 1, 1, 1]])"
            ]
          },
          "metadata": {},
          "execution_count": 132
        }
      ]
    },
    {
      "cell_type": "markdown",
      "metadata": {
        "id": "PXSsa34kSLBG"
      },
      "source": [
        "5) Identifica los elementos iguales en a y b\n",
        "\n",
        "\n",
        "\n",
        "```\n",
        "Input:\n",
        "\n",
        "a = np.array([1,2,3,2,3,4,3,4,5,6])\n",
        "b = np.array([7,2,10,2,7,4,9,4,9,8])\n",
        "```\n",
        "\n",
        "ayuda: investigar la funcion np.where\n"
      ]
    },
    {
      "cell_type": "markdown",
      "metadata": {
        "id": "3JC7hHw_aVvn"
      },
      "source": [
        "6) Intercambiar las columnas 1 y 2 en el array arr\n",
        "\n",
        "arr = np.arange(9).reshape(3,3)\n",
        "\n",
        "\n",
        "\n",
        "\n",
        "```\n",
        "arr = np.arange(9).reshape(3,3)\n",
        "```\n",
        "\n"
      ]
    },
    {
      "cell_type": "code",
      "metadata": {
        "id": "Y-g-3_1OaVVe",
        "colab": {
          "base_uri": "https://localhost:8080/"
        },
        "outputId": "2d1d6601-f577-4ba7-bd49-320547027169"
      },
      "source": [
        "arr = np.arange(9).reshape(3,3)\n",
        "arr\n"
      ],
      "execution_count": 178,
      "outputs": [
        {
          "output_type": "execute_result",
          "data": {
            "text/plain": [
              "array([[0, 1, 2],\n",
              "       [3, 4, 5],\n",
              "       [6, 7, 8]])"
            ]
          },
          "metadata": {},
          "execution_count": 178
        }
      ]
    },
    {
      "cell_type": "markdown",
      "metadata": {
        "id": "O-aeg8avhiZo"
      },
      "source": [
        "## Operaciones basicas entre entre arreglos del mismo tamaño"
      ]
    },
    {
      "cell_type": "markdown",
      "metadata": {
        "id": "As4wq1NQm_b2"
      },
      "source": [
        "Las operaciones basicas entre arreglos se dan elemento a elemnto"
      ]
    },
    {
      "cell_type": "code",
      "metadata": {
        "id": "kR2TufwVhgT4",
        "colab": {
          "base_uri": "https://localhost:8080/"
        },
        "outputId": "672c848f-aaa7-4584-c649-ab564352fb0b"
      },
      "source": [
        "#definamos los dos arreglos\n",
        "v = np.random.randint(low = 2, high=10, size=10)\n",
        "w = np.random.randint(low = 2, high=10, size=10)\n",
        "v,w"
      ],
      "execution_count": 33,
      "outputs": [
        {
          "output_type": "execute_result",
          "data": {
            "text/plain": [
              "(array([4, 4, 5, 6, 4, 8, 4, 3, 7, 3]), array([3, 6, 6, 4, 9, 5, 4, 5, 4, 8]))"
            ]
          },
          "metadata": {},
          "execution_count": 33
        }
      ]
    },
    {
      "cell_type": "code",
      "metadata": {
        "id": "m1_IKMPinIZT",
        "outputId": "b4105daa-da8c-4808-dfde-c2c41b2c7cd3",
        "colab": {
          "base_uri": "https://localhost:8080/",
          "height": 50
        }
      },
      "source": [
        "#suma y resta de dos arreglos 1D de la misma longitud\n",
        "w + v , w - v"
      ],
      "execution_count": null,
      "outputs": [
        {
          "output_type": "execute_result",
          "data": {
            "text/plain": [
              "(array([11, 14, 10, 12, 14, 16,  7, 10, 11, 17]),\n",
              " array([ 7, -2,  0,  0,  0,  2,  3, -2, -5, -1]))"
            ]
          },
          "metadata": {
            "tags": []
          },
          "execution_count": 181
        }
      ]
    },
    {
      "cell_type": "code",
      "metadata": {
        "id": "J1YLZjnvnKBN",
        "colab": {
          "base_uri": "https://localhost:8080/",
          "height": 67
        },
        "outputId": "7cdf8c16-6353-4e02-b7a1-511d67d3f678"
      },
      "source": [
        "#multiplicacion y division\n",
        "w*v , w/v"
      ],
      "execution_count": null,
      "outputs": [
        {
          "output_type": "execute_result",
          "data": {
            "text/plain": [
              "(array([18, 48, 25, 36, 49, 63, 10, 24, 24, 72]),\n",
              " array([4.5       , 0.75      , 1.        , 1.        , 1.        ,\n",
              "        1.28571429, 2.5       , 0.66666667, 0.375     , 0.88888889]))"
            ]
          },
          "metadata": {
            "tags": []
          },
          "execution_count": 182
        }
      ]
    },
    {
      "cell_type": "code",
      "metadata": {
        "id": "GoId02Khp_dw",
        "colab": {
          "base_uri": "https://localhost:8080/",
          "height": 50
        },
        "outputId": "0dab2e31-4b6f-4b5b-848d-5ec90cfe8d3e"
      },
      "source": [
        "#Potenciacion\n",
        "w**v"
      ],
      "execution_count": null,
      "outputs": [
        {
          "output_type": "execute_result",
          "data": {
            "text/plain": [
              "array([       81,   1679616,      3125,     46656,    823543,   4782969,\n",
              "              25,      4096,      6561, 134217728])"
            ]
          },
          "metadata": {
            "tags": []
          },
          "execution_count": 183
        }
      ]
    },
    {
      "cell_type": "code",
      "metadata": {
        "outputId": "e2fa3667-ba80-4093-8d50-4566847b389a",
        "id": "sryKvUt_f31i",
        "colab": {
          "base_uri": "https://localhost:8080/"
        }
      },
      "source": [
        "#definamos los dos arreglos 2D\n",
        "v = np.random.randint(low = 2, high=10, size=(3,3))\n",
        "w = np.random.randint(low = 2, high=10, size=(3,3))\n",
        "v,w"
      ],
      "execution_count": 31,
      "outputs": [
        {
          "output_type": "execute_result",
          "data": {
            "text/plain": [
              "(array([[9, 4, 4],\n",
              "        [2, 3, 2],\n",
              "        [5, 2, 8]]),\n",
              " array([[9],\n",
              "        [5],\n",
              "        [9]]))"
            ]
          },
          "metadata": {},
          "execution_count": 31
        }
      ]
    },
    {
      "cell_type": "code",
      "metadata": {
        "outputId": "55604382-37fc-4b82-c20b-5b0d2cd54540",
        "id": "Ki8VGUDcf31p",
        "colab": {
          "base_uri": "https://localhost:8080/"
        }
      },
      "source": [
        "#suma y resta de dos arreglos 1D de la misma longitud\n",
        "w + v"
      ],
      "execution_count": 32,
      "outputs": [
        {
          "output_type": "execute_result",
          "data": {
            "text/plain": [
              "array([[18, 13, 13],\n",
              "       [ 7,  8,  7],\n",
              "       [14, 11, 17]])"
            ]
          },
          "metadata": {},
          "execution_count": 32
        }
      ]
    },
    {
      "cell_type": "code",
      "metadata": {
        "outputId": "645c806a-76c3-4987-9f22-4718be6701c9",
        "id": "AOyZonSwf31r",
        "colab": {
          "base_uri": "https://localhost:8080/",
          "height": 67
        }
      },
      "source": [
        "#multiplicacion y division\n",
        "w*v"
      ],
      "execution_count": null,
      "outputs": [
        {
          "output_type": "execute_result",
          "data": {
            "text/plain": [
              "array([[16, 72, 30],\n",
              "       [32, 40, 48],\n",
              "       [15,  8, 18]])"
            ]
          },
          "metadata": {
            "tags": []
          },
          "execution_count": 189
        }
      ]
    },
    {
      "cell_type": "code",
      "metadata": {
        "outputId": "7168718d-ae56-4c83-b563-f82885d24782",
        "id": "x6qxIvV8f31v",
        "colab": {
          "base_uri": "https://localhost:8080/",
          "height": 67
        }
      },
      "source": [
        "#Potenciacion\n",
        "w**v"
      ],
      "execution_count": null,
      "outputs": [
        {
          "output_type": "execute_result",
          "data": {
            "text/plain": [
              "array([[     256, 43046721,    15625],\n",
              "       [    4096,   390625,  1679616],\n",
              "       [     125,       16,       81]])"
            ]
          },
          "metadata": {
            "tags": []
          },
          "execution_count": 190
        }
      ]
    },
    {
      "cell_type": "markdown",
      "metadata": {
        "id": "MuPviq5RsIZ-"
      },
      "source": [
        "## Operaciones basicas entre entre arreglos de diferente tamaño (Broadcasting)"
      ]
    },
    {
      "cell_type": "code",
      "metadata": {
        "id": "mME65bYHsI0w"
      },
      "source": [
        "#definamos un arreglo 1D con numeros aleatorios\n",
        "v = np.random.randint(low = 2, high=10, size=10)"
      ],
      "execution_count": 184,
      "outputs": []
    },
    {
      "cell_type": "code",
      "metadata": {
        "id": "8lKmdSeFsJce",
        "colab": {
          "base_uri": "https://localhost:8080/"
        },
        "outputId": "b88c03e7-ed41-4c57-e213-b7093e17c277"
      },
      "source": [
        "#suma y resta de un arreglo y una constante\n",
        "v, v + 1 , v - 1"
      ],
      "execution_count": 187,
      "outputs": [
        {
          "output_type": "execute_result",
          "data": {
            "text/plain": [
              "(array([6, 7, 3, 3, 3, 7, 6, 2, 5, 4]),\n",
              " array([7, 8, 4, 4, 4, 8, 7, 3, 6, 5]),\n",
              " array([5, 6, 2, 2, 2, 6, 5, 1, 4, 3]))"
            ]
          },
          "metadata": {},
          "execution_count": 187
        }
      ]
    },
    {
      "cell_type": "code",
      "metadata": {
        "id": "wTIMb_kUsJaK",
        "colab": {
          "base_uri": "https://localhost:8080/"
        },
        "outputId": "45dc8c5e-c4b4-410a-d319-7c9e3fae85e8"
      },
      "source": [
        "#multiplicacion  y division de un arreglo y una constante\n",
        "v*2 , v/2"
      ],
      "execution_count": 188,
      "outputs": [
        {
          "output_type": "execute_result",
          "data": {
            "text/plain": [
              "(array([12, 14,  6,  6,  6, 14, 12,  4, 10,  8]),\n",
              " array([3. , 3.5, 1.5, 1.5, 1.5, 3.5, 3. , 1. , 2.5, 2. ]))"
            ]
          },
          "metadata": {},
          "execution_count": 188
        }
      ]
    },
    {
      "cell_type": "code",
      "metadata": {
        "id": "IzWhCpnAbbXO",
        "colab": {
          "base_uri": "https://localhost:8080/"
        },
        "outputId": "579503d4-eff2-4e43-98b8-52c676576a2e"
      },
      "source": [
        "#Comparaciones entre arreglo y una constante\n",
        "v > 5"
      ],
      "execution_count": 190,
      "outputs": [
        {
          "output_type": "execute_result",
          "data": {
            "text/plain": [
              "array([ True,  True, False, False, False,  True,  True, False, False,\n",
              "       False])"
            ]
          },
          "metadata": {},
          "execution_count": 190
        }
      ]
    },
    {
      "cell_type": "code",
      "metadata": {
        "id": "tN0kO7OGsJXo",
        "colab": {
          "base_uri": "https://localhost:8080/"
        },
        "outputId": "5ae34d76-4253-4fcd-c860-52ca8396c208"
      },
      "source": [
        "#Definamos dos arreglos con diferentes damaños\n",
        "v = np.random.randint(low = 2, high=10, size=(4,4))\n",
        "w = np.random.randint(low = 2, high=10, size=(1,4))\n",
        "v , w"
      ],
      "execution_count": 200,
      "outputs": [
        {
          "output_type": "execute_result",
          "data": {
            "text/plain": [
              "(array([[7, 6, 9, 5],\n",
              "        [3, 7, 8, 7],\n",
              "        [4, 9, 5, 9],\n",
              "        [7, 2, 4, 6]]),\n",
              " array([[8, 4, 8, 2]]))"
            ]
          },
          "metadata": {},
          "execution_count": 200
        }
      ]
    },
    {
      "cell_type": "code",
      "metadata": {
        "id": "diYZVRpysJQ-",
        "colab": {
          "base_uri": "https://localhost:8080/"
        },
        "outputId": "6e9637b1-5a72-4df1-ea30-0e4a6f294aa2"
      },
      "source": [
        "#Suma entre los dos arreglos\n",
        "w + v"
      ],
      "execution_count": 201,
      "outputs": [
        {
          "output_type": "execute_result",
          "data": {
            "text/plain": [
              "array([[15, 10, 17,  7],\n",
              "       [11, 11, 16,  9],\n",
              "       [12, 13, 13, 11],\n",
              "       [15,  6, 12,  8]])"
            ]
          },
          "metadata": {},
          "execution_count": 201
        }
      ]
    },
    {
      "cell_type": "code",
      "metadata": {
        "id": "csqdqQCYhxhj",
        "colab": {
          "base_uri": "https://localhost:8080/"
        },
        "outputId": "f68e1c46-1e69-41e6-8973-2ff7495667b0"
      },
      "source": [
        "#Multiplicacion\n",
        "w*v"
      ],
      "execution_count": 202,
      "outputs": [
        {
          "output_type": "execute_result",
          "data": {
            "text/plain": [
              "array([[56, 24, 72, 10],\n",
              "       [24, 28, 64, 14],\n",
              "       [32, 36, 40, 18],\n",
              "       [56,  8, 32, 12]])"
            ]
          },
          "metadata": {},
          "execution_count": 202
        }
      ]
    },
    {
      "cell_type": "code",
      "metadata": {
        "id": "hQ6AbgVdh2k2",
        "colab": {
          "base_uri": "https://localhost:8080/"
        },
        "outputId": "75fe95a0-1cbd-4445-ab2a-de0e1e3b6942"
      },
      "source": [
        "#exponenciacion\n",
        "w**v"
      ],
      "execution_count": 204,
      "outputs": [
        {
          "output_type": "execute_result",
          "data": {
            "text/plain": [
              "array([[  2097152,      4096, 134217728,        32],\n",
              "       [      512,     16384,  16777216,       128],\n",
              "       [     4096,    262144,     32768,       512],\n",
              "       [  2097152,        16,      4096,        64]])"
            ]
          },
          "metadata": {},
          "execution_count": 204
        }
      ]
    },
    {
      "cell_type": "markdown",
      "metadata": {
        "id": "omVToYxnpeYm"
      },
      "source": [
        "## Ufunctions"
      ]
    },
    {
      "cell_type": "markdown",
      "metadata": {
        "id": "thRPhox9qM_t"
      },
      "source": [
        "algunos ejemplso de Ufunctions\n"
      ]
    },
    {
      "cell_type": "code",
      "metadata": {
        "id": "4MV07gA6j3qf",
        "colab": {
          "base_uri": "https://localhost:8080/"
        },
        "outputId": "95bb1306-f8cf-4cb5-f387-6e8a9c7f2955"
      },
      "source": [
        "#definamos dos arreglos 1D con numeros aleatorios\n",
        "v = np.random.random(11)\n",
        "v"
      ],
      "execution_count": 257,
      "outputs": [
        {
          "output_type": "execute_result",
          "data": {
            "text/plain": [
              "array([0.83482342, 0.17703614, 0.485802  , 0.49303676, 0.54276901,\n",
              "       0.97350625, 0.65364784, 0.60139372, 0.39760885, 0.7119198 ,\n",
              "       0.87065314])"
            ]
          },
          "metadata": {},
          "execution_count": 257
        }
      ]
    },
    {
      "cell_type": "code",
      "source": [
        "v"
      ],
      "metadata": {
        "colab": {
          "base_uri": "https://localhost:8080/"
        },
        "id": "TQBeiYOA7TIM",
        "outputId": "3345c194-15d5-4042-bdcf-200c10f26c3f"
      },
      "execution_count": 255,
      "outputs": [
        {
          "output_type": "execute_result",
          "data": {
            "text/plain": [
              "np.float64(0.33954793807456224)"
            ]
          },
          "metadata": {},
          "execution_count": 255
        }
      ]
    },
    {
      "cell_type": "code",
      "metadata": {
        "id": "IGuxqghXnJ-1",
        "colab": {
          "base_uri": "https://localhost:8080/"
        },
        "outputId": "dd962d33-851f-4a2c-f895-767b5c9ed995"
      },
      "source": [
        "#sumar las componenetes de un arreglo\n",
        "np.sum(v)"
      ],
      "execution_count": 213,
      "outputs": [
        {
          "output_type": "execute_result",
          "data": {
            "text/plain": [
              "np.float64(4.987578515468714)"
            ]
          },
          "metadata": {},
          "execution_count": 213
        }
      ]
    },
    {
      "cell_type": "code",
      "metadata": {
        "id": "Mvl6dSR2nJ8z",
        "colab": {
          "base_uri": "https://localhost:8080/"
        },
        "outputId": "adb519b4-f68c-4b9c-cf34-085f765e4060"
      },
      "source": [
        "#funciones trigonometricas\n",
        "np.sin(v)"
      ],
      "execution_count": 208,
      "outputs": [
        {
          "output_type": "execute_result",
          "data": {
            "text/plain": [
              "array([0.49073179, 0.70398578, 0.48609365, 0.65204496, 0.30779651,\n",
              "       0.83344898, 0.18372937, 0.36085563, 0.36289718, 0.80859327])"
            ]
          },
          "metadata": {},
          "execution_count": 208
        }
      ]
    },
    {
      "cell_type": "code",
      "metadata": {
        "id": "3de_OLZynJ51",
        "colab": {
          "base_uri": "https://localhost:8080/"
        },
        "outputId": "4dc57f0e-286b-4cee-c88e-ac875bbcc888"
      },
      "source": [
        "#exponencial\n",
        "np.exp(v)"
      ],
      "execution_count": 214,
      "outputs": [
        {
          "output_type": "execute_result",
          "data": {
            "text/plain": [
              "array([1.21663483, 2.06951139, 2.01287451, 1.30119383, 1.17571005,\n",
              "       1.08885525, 2.22109305, 2.43290489, 2.44638258, 1.31342242])"
            ]
          },
          "metadata": {},
          "execution_count": 214
        }
      ]
    },
    {
      "cell_type": "code",
      "metadata": {
        "id": "SDCTycGaoXkt",
        "colab": {
          "base_uri": "https://localhost:8080/"
        },
        "outputId": "6ef8d980-1bfc-4c1a-f2a4-97b16c8184c5"
      },
      "source": [
        "#multiplicacion\n",
        "np.multiply(v,v)"
      ],
      "execution_count": 215,
      "outputs": [
        {
          "output_type": "execute_result",
          "data": {
            "text/plain": [
              "array([0.03845078, 0.52898352, 0.48938952, 0.0693175 , 0.02620263,\n",
              "       0.00724659, 0.6368031 , 0.79047387, 0.80032783, 0.07433053])"
            ]
          },
          "metadata": {},
          "execution_count": 215
        }
      ]
    },
    {
      "cell_type": "code",
      "metadata": {
        "id": "08ik2h3Brksh",
        "colab": {
          "base_uri": "https://localhost:8080/"
        },
        "outputId": "afba76b5-931c-4e30-cb27-a6610c8d4447"
      },
      "source": [
        "#media\n",
        "np.mean(v)"
      ],
      "execution_count": 216,
      "outputs": [
        {
          "output_type": "execute_result",
          "data": {
            "text/plain": [
              "np.float64(0.4987578515468714)"
            ]
          },
          "metadata": {},
          "execution_count": 216
        }
      ]
    },
    {
      "cell_type": "code",
      "metadata": {
        "id": "RXgOunzMrko_",
        "colab": {
          "base_uri": "https://localhost:8080/"
        },
        "outputId": "719058e9-e1db-4144-829b-65defec15e62"
      },
      "source": [
        "#desviacion estandar\n",
        "np.std(v)"
      ],
      "execution_count": 217,
      "outputs": [
        {
          "output_type": "execute_result",
          "data": {
            "text/plain": [
              "np.float64(0.3120788260717778)"
            ]
          },
          "metadata": {},
          "execution_count": 217
        }
      ]
    },
    {
      "cell_type": "markdown",
      "metadata": {
        "id": "JQXcwRCllGpT"
      },
      "source": [
        "## Ejercicios"
      ]
    },
    {
      "cell_type": "markdown",
      "metadata": {
        "id": "aBifb82zlJvO"
      },
      "source": [
        "Para los siguientes ejercicios concidere el suguiente conjunto de datos"
      ]
    },
    {
      "cell_type": "code",
      "metadata": {
        "id": "xt1iuYG0kQIf"
      },
      "source": [
        "#librearia que contiene el conjunto de tados llamados iris\n",
        "from sklearn.datasets import load_iris"
      ],
      "execution_count": 22,
      "outputs": []
    },
    {
      "cell_type": "markdown",
      "source": [
        "# **Conjunto de datos Iris**\n",
        "\n",
        "Este conjunto de datos consta de 3 tipos diferentes de iris: (Setosa, Versicolor y Virginica) pétalo y sépalo length, almacenado en una matriz numpy.ndarray de 150x4\n",
        "\n",
        "Las filas son las muestras y las columnas son: Longitud del sépalo, ancho del sépalo, longitud del pétalo y ancho del pétalo.\n",
        "\n",
        "El siguiente gráfico utiliza las dos primeras características. Ver aquí para más información sobre este conjunto de datos."
      ],
      "metadata": {
        "id": "fzJJaHQE3Rr6"
      }
    },
    {
      "cell_type": "code",
      "metadata": {
        "id": "USYNRIezldIg"
      },
      "source": [
        "#utilizamos la funcion load_iris() para cargar los datos\n",
        "dataset = load_iris()"
      ],
      "execution_count": 23,
      "outputs": []
    },
    {
      "cell_type": "code",
      "metadata": {
        "id": "sayJKGdklrbM",
        "colab": {
          "base_uri": "https://localhost:8080/"
        },
        "outputId": "1fb87afe-76e9-468e-c853-4e48bb300571"
      },
      "source": [
        "#Inspecciones un poco los datos , tenga encuenta que los datos vienen en forma de diccionario\n",
        "dataset.keys()"
      ],
      "execution_count": 24,
      "outputs": [
        {
          "output_type": "execute_result",
          "data": {
            "text/plain": [
              "dict_keys(['data', 'target', 'frame', 'target_names', 'DESCR', 'feature_names', 'filename', 'data_module'])"
            ]
          },
          "metadata": {},
          "execution_count": 24
        }
      ]
    },
    {
      "cell_type": "code",
      "source": [
        "\n"
      ],
      "metadata": {
        "id": "1jCA4m3IxRop"
      },
      "execution_count": null,
      "outputs": []
    },
    {
      "cell_type": "code",
      "metadata": {
        "id": "DrcxpC_Cl2Jk",
        "colab": {
          "base_uri": "https://localhost:8080/",
          "height": 105
        },
        "outputId": "bfe79eed-3df6-41b8-d39c-53e887b93817"
      },
      "source": [
        "#veamos la descripcion del data set\n",
        "dataset['DESCR']"
      ],
      "execution_count": 236,
      "outputs": [
        {
          "output_type": "execute_result",
          "data": {
            "text/plain": [
              "'.. _iris_dataset:\\n\\nIris plants dataset\\n--------------------\\n\\n**Data Set Characteristics:**\\n\\n:Number of Instances: 150 (50 in each of three classes)\\n:Number of Attributes: 4 numeric, predictive attributes and the class\\n:Attribute Information:\\n    - sepal length in cm\\n    - sepal width in cm\\n    - petal length in cm\\n    - petal width in cm\\n    - class:\\n            - Iris-Setosa\\n            - Iris-Versicolour\\n            - Iris-Virginica\\n\\n:Summary Statistics:\\n\\n============== ==== ==== ======= ===== ====================\\n                Min  Max   Mean    SD   Class Correlation\\n============== ==== ==== ======= ===== ====================\\nsepal length:   4.3  7.9   5.84   0.83    0.7826\\nsepal width:    2.0  4.4   3.05   0.43   -0.4194\\npetal length:   1.0  6.9   3.76   1.76    0.9490  (high!)\\npetal width:    0.1  2.5   1.20   0.76    0.9565  (high!)\\n============== ==== ==== ======= ===== ====================\\n\\n:Missing Attribute Values: None\\n:Class Distribution: 33.3% for each of 3 classes.\\n:Creator: R.A. Fisher\\n:Donor: Michael Marshall (MARSHALL%PLU@io.arc.nasa.gov)\\n:Date: July, 1988\\n\\nThe famous Iris database, first used by Sir R.A. Fisher. The dataset is taken\\nfrom Fisher\\'s paper. Note that it\\'s the same as in R, but not as in the UCI\\nMachine Learning Repository, which has two wrong data points.\\n\\nThis is perhaps the best known database to be found in the\\npattern recognition literature.  Fisher\\'s paper is a classic in the field and\\nis referenced frequently to this day.  (See Duda & Hart, for example.)  The\\ndata set contains 3 classes of 50 instances each, where each class refers to a\\ntype of iris plant.  One class is linearly separable from the other 2; the\\nlatter are NOT linearly separable from each other.\\n\\n.. dropdown:: References\\n\\n  - Fisher, R.A. \"The use of multiple measurements in taxonomic problems\"\\n    Annual Eugenics, 7, Part II, 179-188 (1936); also in \"Contributions to\\n    Mathematical Statistics\" (John Wiley, NY, 1950).\\n  - Duda, R.O., & Hart, P.E. (1973) Pattern Classification and Scene Analysis.\\n    (Q327.D83) John Wiley & Sons.  ISBN 0-471-22361-1.  See page 218.\\n  - Dasarathy, B.V. (1980) \"Nosing Around the Neighborhood: A New System\\n    Structure and Classification Rule for Recognition in Partially Exposed\\n    Environments\".  IEEE Transactions on Pattern Analysis and Machine\\n    Intelligence, Vol. PAMI-2, No. 1, 67-71.\\n  - Gates, G.W. (1972) \"The Reduced Nearest Neighbor Rule\".  IEEE Transactions\\n    on Information Theory, May 1972, 431-433.\\n  - See also: 1988 MLC Proceedings, 54-64.  Cheeseman et al\"s AUTOCLASS II\\n    conceptual clustering system finds 3 classes in the data.\\n  - Many, many more ...\\n'"
            ],
            "application/vnd.google.colaboratory.intrinsic+json": {
              "type": "string"
            }
          },
          "metadata": {},
          "execution_count": 236
        }
      ]
    },
    {
      "cell_type": "code",
      "metadata": {
        "id": "5tRpxT0umvYn",
        "colab": {
          "base_uri": "https://localhost:8080/"
        },
        "outputId": "187602f8-4eb2-48db-86f5-909935252589"
      },
      "source": [
        "#veamos el nombre de las caracteristicas\n",
        "dataset['feature_names']"
      ],
      "execution_count": 234,
      "outputs": [
        {
          "output_type": "execute_result",
          "data": {
            "text/plain": [
              "['sepal length (cm)',\n",
              " 'sepal width (cm)',\n",
              " 'petal length (cm)',\n",
              " 'petal width (cm)']"
            ]
          },
          "metadata": {},
          "execution_count": 234
        }
      ]
    },
    {
      "cell_type": "code",
      "metadata": {
        "id": "vDSWWLRLWJQJ",
        "colab": {
          "base_uri": "https://localhost:8080/",
          "height": 35
        },
        "outputId": "c736c9ef-56f7-40ee-9d62-f6b7095fcb68"
      },
      "source": [
        "#veamos las etiquetas\n",
        "dataset['filename']"
      ],
      "execution_count": 235,
      "outputs": [
        {
          "output_type": "execute_result",
          "data": {
            "text/plain": [
              "'iris.csv'"
            ],
            "application/vnd.google.colaboratory.intrinsic+json": {
              "type": "string"
            }
          },
          "metadata": {},
          "execution_count": 235
        }
      ]
    },
    {
      "cell_type": "code",
      "metadata": {
        "id": "s0iqQF0Amb3b"
      },
      "source": [
        "#separemos los datos\n",
        "X = dataset['data'][: , [0,1]]"
      ],
      "execution_count": 242,
      "outputs": []
    },
    {
      "cell_type": "code",
      "source": [
        "X"
      ],
      "metadata": {
        "id": "EdQ5jNNuwj5n"
      },
      "execution_count": null,
      "outputs": []
    },
    {
      "cell_type": "markdown",
      "metadata": {
        "id": "ERETRvgbnCDi"
      },
      "source": [
        "1) Obtenga el valor maximo y el valor minimo de la matriz X, luego obtenga el valor maximo y minimo de cada una de las columnas (esto es cada una de las caracteristicas)"
      ]
    },
    {
      "cell_type": "code",
      "metadata": {
        "id": "yabba179moAZ"
      },
      "source": [],
      "execution_count": null,
      "outputs": []
    },
    {
      "cell_type": "markdown",
      "metadata": {
        "id": "P1ccdlZnnxkJ"
      },
      "source": [
        "2) Obtenga el valor medio, la mediana, la moda y la desviacion estandar para cada una de las caracteristicas\n",
        "['sepal length (cm)',\n",
        " 'sepal width (cm)',\n",
        " 'petal length (cm)',\n",
        " 'petal width (cm)']"
      ]
    },
    {
      "cell_type": "markdown",
      "metadata": {
        "id": "534SxP22odDp"
      },
      "source": [
        "3) Para cada una de las caracteristicas identifique:\n",
        "- la cantidad de valores mayores a las medias\n",
        "- Extraiga los cuartiles de una de las variables (Recuerde que los cuartiles se calculan con los datos ordenados)"
      ]
    },
    {
      "cell_type": "code",
      "metadata": {
        "id": "zRe8DXy_n67A"
      },
      "source": [],
      "execution_count": null,
      "outputs": []
    },
    {
      "cell_type": "markdown",
      "source": [],
      "metadata": {
        "id": "sZ01UCsZZLTM"
      }
    },
    {
      "cell_type": "markdown",
      "source": [
        "# Bibliografia\n",
        "\n",
        "- [Documentación Numpy](https://numpy.org/devdocs/index.html)"
      ],
      "metadata": {
        "id": "50DpXq51FhPx"
      }
    },
    {
      "cell_type": "code",
      "execution_count": null,
      "metadata": {
        "id": "ifWbDH40B12f"
      },
      "outputs": [],
      "source": []
    }
  ]
}